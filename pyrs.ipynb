{
 "cells": [
  {
   "cell_type": "code",
   "execution_count": null,
   "id": "40d16f46",
   "metadata": {},
   "outputs": [],
   "source": [
    "from pysr import PySRRegressor"
   ]
  },
  {
   "cell_type": "code",
   "execution_count": null,
   "id": "8fa850d4",
   "metadata": {},
   "outputs": [],
   "source": [
    "db = \"test 2.db\""
   ]
  },
  {
   "cell_type": "code",
   "execution_count": null,
   "id": "3376e92c",
   "metadata": {},
   "outputs": [],
   "source": [
    "def get_session():\n",
    "    with closing(sqlite3.connect(db)) as conn:\n",
    "        return pd.read_sql(\n",
    "            f\"SELECT * FROM datos\", conn\n",
    "        )"
   ]
  },
  {
   "cell_type": "code",
   "execution_count": null,
   "id": "61d1bc51",
   "metadata": {},
   "outputs": [],
   "source": [
    "session = get_session()\n",
    "session.head()"
   ]
  },
  {
   "cell_type": "code",
   "execution_count": null,
   "id": "dbcfb51c",
   "metadata": {},
   "outputs": [],
   "source": [
    "X = session[['delta0','theta0','low_alpha0','high_alpha0','low_beta0','high_beta0','low_gamma0','high_gamma0']]\n",
    "y = session[['attention0','meditation0']]"
   ]
  },
  {
   "cell_type": "code",
   "execution_count": null,
   "id": "5bf3fc95",
   "metadata": {},
   "outputs": [],
   "source": [
    "model = PySRRegressor(\n",
    "    populations=8,\n",
    "    # ^ Assuming we have 4 cores, this means 2 populations per core, so one is always running.\n",
    "    population_size=50,\n",
    "    # ^ Slightly larger populations, for greater diversity.\n",
    "    ncycles_per_iteration=500,\n",
    "    # ^ Generations between migrations.\n",
    "    niterations=10000000,  # Run forever\n",
    "    early_stop_condition=(\n",
    "        \"stop_if(loss, complexity) = loss < 1e-6 && complexity < 10\"\n",
    "        # Stop early if we find a good and simple equation\n",
    "    ),\n",
    "    timeout_in_seconds=60 * 60 * 24,\n",
    "    # ^ Alternatively, stop after 24 hours have passed.\n",
    "    maxsize=50,\n",
    "    # ^ Allow greater complexity.\n",
    "    maxdepth=10,\n",
    "    # ^ But, avoid deep nesting.\n",
    "    binary_operators=[\"*\", \"+\", \"-\", \"/\"],\n",
    "    unary_operators=[\"square\", \"cube\", \"exp\", \"cos2(x)=cos(x)^2\"],\n",
    "    constraints={\n",
    "        \"/\": (-1, 9),\n",
    "        \"square\": 9,\n",
    "        \"cube\": 9,\n",
    "        \"exp\": 9,\n",
    "    },\n",
    "    # ^ Limit the complexity within each argument.\n",
    "    # \"inv\": (-1, 9) states that the numerator has no constraint,\n",
    "    # but the denominator has a max complexity of 9.\n",
    "    # \"exp\": 9 simply states that `exp` can only have\n",
    "    # an expression of complexity 9 as input.\n",
    "    nested_constraints={\n",
    "        \"square\": {\"square\": 1, \"cube\": 1, \"exp\": 0},\n",
    "        \"cube\": {\"square\": 1, \"cube\": 1, \"exp\": 0},\n",
    "        \"exp\": {\"square\": 1, \"cube\": 1, \"exp\": 0},\n",
    "    },\n",
    "    # ^ Nesting constraints on operators. For example,\n",
    "    # \"square(exp(x))\" is not allowed, since \"square\": {\"exp\": 0}.\n",
    "    complexity_of_operators={\"/\": 2, \"exp\": 3},\n",
    "    # ^ Custom complexity of particular operators.\n",
    "    complexity_of_constants=2,\n",
    "    # ^ Punish constants more than variables\n",
    "    select_k_features=4,\n",
    "    # ^ Train on only the 4 most important features\n",
    "    progress=True,\n",
    "    # ^ Can set to false if printing to a file.\n",
    "    weight_randomize=0.1,\n",
    "    # ^ Randomize the tree much more frequently\n",
    "    cluster_manager=None,\n",
    "    # ^ Can be set to, e.g., \"slurm\", to run a slurm\n",
    "    # cluster. Just launch one script from the head node.\n",
    "    precision=64,\n",
    "    # ^ Higher precision calculations.\n",
    "    warm_start=True,\n",
    "    # ^ Start from where left off.\n",
    "    turbo=True,\n",
    "    # ^ Faster evaluation (experimental)\n",
    "    extra_sympy_mappings={\"cos2\": lambda x: sympy.cos(x)**2},\n",
    "    # extra_torch_mappings={sympy.cos: torch.cos},\n",
    "    # ^ Not needed as cos already defined, but this\n",
    "    # is how you define custom torch operators.\n",
    "    # extra_jax_mappings={sympy.cos: \"jnp.cos\"},\n",
    "    # ^ For JAX, one passes a string.\n",
    ")"
   ]
  },
  {
   "cell_type": "code",
   "execution_count": null,
   "id": "02306879",
   "metadata": {},
   "outputs": [],
   "source": [
    "model.fit(X, y)"
   ]
  }
 ],
 "metadata": {
  "language_info": {
   "name": "python"
  }
 },
 "nbformat": 4,
 "nbformat_minor": 5
}
